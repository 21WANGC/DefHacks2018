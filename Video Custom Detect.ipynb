{
 "cells": [
  {
   "cell_type": "code",
   "execution_count": 1,
   "metadata": {},
   "outputs": [],
   "source": [
    "import cv2\n",
    "import json\n",
    "import requests\n",
    "import http.client\n",
    "import urllib.request\n",
    "import urllib.parse\n",
    "import urllib.error\n",
    "import base64"
   ]
  },
  {
   "cell_type": "code",
   "execution_count": 2,
   "metadata": {},
   "outputs": [],
   "source": [
    "def analyze_frame(image_path, threshold):\n",
    "    headers = {\n",
    "        # Request headers\n",
    "        'Content-Type': 'application/octet-stream',\n",
    "        'Prediction-key': 'fe3f42c3c33449e8bba854e961cd72e0',\n",
    "    }\n",
    "\n",
    "    params = urllib.parse.urlencode({\n",
    "        # Request parameters\n",
    "        'iterationId': '',\n",
    "        'application': '',\n",
    "    })\n",
    "    \n",
    "    image = open(image_path, \"rb\").read()\n",
    "\n",
    "    try:\n",
    "        conn = http.client.HTTPSConnection('southcentralus.api.cognitive.microsoft.com')\n",
    "        conn.request(\"POST\", \"/customvision/v1.1/Prediction/f9c2c85a-fdcb-4e96-a5a5-e085e58187eb/image?%s\" % params, image, headers)\n",
    "        response = conn.getresponse()\n",
    "        analysis = json.loads(response.read())\n",
    "        conn.close()\n",
    "    except Exception as e:\n",
    "        print(\"[Errno {0}] {1}\".format(e.errno, e.strerror))\n",
    "    \n",
    "    dict_list = analysis['Predictions']\n",
    "    for dictionary in dict_list:\n",
    "        if dictionary['Probability'] >= threshold:\n",
    "            return True\n",
    "    return False"
   ]
  },
  {
   "cell_type": "code",
   "execution_count": null,
   "metadata": {},
   "outputs": [],
   "source": [
    "camera = cv2.VideoCapture(0)\n",
    "camera.set(cv2.CAP_PROP_FPS, 0.2)"
   ]
  },
  {
   "cell_type": "code",
   "execution_count": 4,
   "metadata": {},
   "outputs": [
    {
     "name": "stdout",
     "output_type": "stream",
     "text": [
      "NO GUN DETECTED\n",
      "NO GUN DETECTED\n",
      "NO GUN DETECTED\n",
      "NO GUN DETECTED\n",
      "NO GUN DETECTED\n",
      "NO GUN DETECTED\n",
      "NO GUN DETECTED\n",
      "NO GUN DETECTED\n",
      "NO GUN DETECTED\n",
      "NO GUN DETECTED\n",
      "NO GUN DETECTED\n",
      "NO GUN DETECTED\n"
     ]
    },
    {
     "ename": "KeyError",
     "evalue": "'Predictions'",
     "output_type": "error",
     "traceback": [
      "\u001b[1;31m---------------------------------------------------------------------------\u001b[0m",
      "\u001b[1;31mKeyError\u001b[0m                                  Traceback (most recent call last)",
      "\u001b[1;32m<ipython-input-4-49e2ec15f8df>\u001b[0m in \u001b[0;36m<module>\u001b[1;34m()\u001b[0m\n\u001b[0;32m      5\u001b[0m \u001b[1;33m\u001b[0m\u001b[0m\n\u001b[0;32m      6\u001b[0m     \u001b[0mcv2\u001b[0m\u001b[1;33m.\u001b[0m\u001b[0mimwrite\u001b[0m\u001b[1;33m(\u001b[0m\u001b[1;34m'capture.jpg'\u001b[0m\u001b[1;33m,\u001b[0m \u001b[0mframe\u001b[0m\u001b[1;33m)\u001b[0m\u001b[1;33m\u001b[0m\u001b[0m\n\u001b[1;32m----> 7\u001b[1;33m     \u001b[0malarm\u001b[0m \u001b[1;33m=\u001b[0m \u001b[0manalyze_frame\u001b[0m\u001b[1;33m(\u001b[0m\u001b[1;34m'capture.jpg'\u001b[0m\u001b[1;33m,\u001b[0m \u001b[1;36m0.9\u001b[0m\u001b[1;33m)\u001b[0m\u001b[1;33m\u001b[0m\u001b[0m\n\u001b[0m\u001b[0;32m      8\u001b[0m     \u001b[1;32mif\u001b[0m \u001b[0malarm\u001b[0m\u001b[1;33m:\u001b[0m\u001b[1;33m\u001b[0m\u001b[0m\n\u001b[0;32m      9\u001b[0m         \u001b[0mprint\u001b[0m\u001b[1;33m(\u001b[0m\u001b[1;34m\"ALARM\"\u001b[0m\u001b[1;33m)\u001b[0m\u001b[1;33m\u001b[0m\u001b[0m\n",
      "\u001b[1;32m<ipython-input-2-a5f87e89bf04>\u001b[0m in \u001b[0;36manalyze_frame\u001b[1;34m(image_path, threshold)\u001b[0m\n\u001b[0;32m     23\u001b[0m         \u001b[0mprint\u001b[0m\u001b[1;33m(\u001b[0m\u001b[1;34m\"[Errno {0}] {1}\"\u001b[0m\u001b[1;33m.\u001b[0m\u001b[0mformat\u001b[0m\u001b[1;33m(\u001b[0m\u001b[0me\u001b[0m\u001b[1;33m.\u001b[0m\u001b[0merrno\u001b[0m\u001b[1;33m,\u001b[0m \u001b[0me\u001b[0m\u001b[1;33m.\u001b[0m\u001b[0mstrerror\u001b[0m\u001b[1;33m)\u001b[0m\u001b[1;33m)\u001b[0m\u001b[1;33m\u001b[0m\u001b[0m\n\u001b[0;32m     24\u001b[0m \u001b[1;33m\u001b[0m\u001b[0m\n\u001b[1;32m---> 25\u001b[1;33m     \u001b[0mdict_list\u001b[0m \u001b[1;33m=\u001b[0m \u001b[0manalysis\u001b[0m\u001b[1;33m[\u001b[0m\u001b[1;34m'Predictions'\u001b[0m\u001b[1;33m]\u001b[0m\u001b[1;33m\u001b[0m\u001b[0m\n\u001b[0m\u001b[0;32m     26\u001b[0m     \u001b[1;32mfor\u001b[0m \u001b[0mdictionary\u001b[0m \u001b[1;32min\u001b[0m \u001b[0mdict_list\u001b[0m\u001b[1;33m:\u001b[0m\u001b[1;33m\u001b[0m\u001b[0m\n\u001b[0;32m     27\u001b[0m         \u001b[1;32mif\u001b[0m \u001b[0mdictionary\u001b[0m\u001b[1;33m[\u001b[0m\u001b[1;34m'Probability'\u001b[0m\u001b[1;33m]\u001b[0m \u001b[1;33m>=\u001b[0m \u001b[0mthreshold\u001b[0m\u001b[1;33m:\u001b[0m\u001b[1;33m\u001b[0m\u001b[0m\n",
      "\u001b[1;31mKeyError\u001b[0m: 'Predictions'"
     ]
    }
   ],
   "source": [
    "#analysis every frame\n",
    "while(True):\n",
    "    ret, frame = camera.read()\n",
    "    cv2.imshow('frame', frame)\n",
    "    \n",
    "    cv2.imwrite('capture.jpg', frame)\n",
    "    alarm = analyze_frame('capture.jpg', 0.9)\n",
    "    if alarm:\n",
    "        print(\"ALARM\")\n",
    "    else:\n",
    "        print(\"NO GUN DETECTED\")\n",
    "    \n",
    "    key = cv2.waitKey(3)\n",
    "    #ESC key press\n",
    "    if key%256 == 27:\n",
    "        break\n",
    "        \n",
    "camera.release()\n",
    "cv2.destroyAllWindows()"
   ]
  },
  {
   "cell_type": "code",
   "execution_count": 4,
   "metadata": {},
   "outputs": [
    {
     "name": "stdout",
     "output_type": "stream",
     "text": [
      "NO GUN DETECTED\n",
      "ALARM\n",
      "ALARM\n",
      "ALARM\n",
      "ALARM\n",
      "ALARM\n",
      "ALARM\n",
      "ALARM\n",
      "ALARM\n",
      "ALARM\n",
      "ALARM\n",
      "ALARM\n",
      "ALARM\n",
      "ALARM\n",
      "NO GUN DETECTED\n",
      "NO GUN DETECTED\n",
      "NO GUN DETECTED\n",
      "NO GUN DETECTED\n",
      "ALARM\n",
      "NO GUN DETECTED\n",
      "NO GUN DETECTED\n",
      "NO GUN DETECTED\n",
      "NO GUN DETECTED\n",
      "NO GUN DETECTED\n",
      "NO GUN DETECTED\n",
      "ALARM\n",
      "ALARM\n",
      "NO GUN DETECTED\n",
      "NO GUN DETECTED\n",
      "NO GUN DETECTED\n",
      "ALARM\n",
      "NO GUN DETECTED\n",
      "NO GUN DETECTED\n",
      "NO GUN DETECTED\n",
      "NO GUN DETECTED\n",
      "NO GUN DETECTED\n",
      "NO GUN DETECTED\n",
      "ALARM\n",
      "ALARM\n",
      "NO GUN DETECTED\n",
      "ALARM\n",
      "ALARM\n"
     ]
    }
   ],
   "source": [
    "#analysis on key press\n",
    "while(True):\n",
    "    ret, frame = camera.read()\n",
    "    cv2.imshow('frame', frame)\n",
    "    \n",
    "    key = cv2.waitKey(3)\n",
    "    #ESC key press\n",
    "    if key%256 == 27:\n",
    "        break\n",
    "    #SPACE key press\n",
    "    elif key%256 == 32:\n",
    "        cv2.imwrite('capture.jpg', frame)\n",
    "        alarm = analyze_frame('capture.jpg', 0.9)\n",
    "        if alarm:\n",
    "            print(\"ALARM\")\n",
    "        else:\n",
    "            print(\"NO GUN DETECTED\")\n",
    "        \n",
    "camera.release()\n",
    "cv2.destroyAllWindows()"
   ]
  }
 ],
 "metadata": {
  "kernelspec": {
   "display_name": "Python 3",
   "language": "python",
   "name": "python3"
  },
  "language_info": {
   "codemirror_mode": {
    "name": "ipython",
    "version": 3
   },
   "file_extension": ".py",
   "mimetype": "text/x-python",
   "name": "python",
   "nbconvert_exporter": "python",
   "pygments_lexer": "ipython3",
   "version": "3.6.4"
  }
 },
 "nbformat": 4,
 "nbformat_minor": 2
}
