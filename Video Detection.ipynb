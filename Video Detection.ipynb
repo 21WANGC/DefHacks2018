{
 "cells": [
  {
   "cell_type": "code",
   "execution_count": 1,
   "metadata": {},
   "outputs": [],
   "source": [
    "import cv2\n",
    "import numpy as np\n",
    "import requests"
   ]
  },
  {
   "cell_type": "code",
   "execution_count": 2,
   "metadata": {},
   "outputs": [],
   "source": [
    "subscription_key = \"04328e75a7a4450790341919a3ca4df9\"\n",
    "assert subscription_key\n",
    "\n",
    "vision_base_url = \"https://westcentralus.api.cognitive.microsoft.com/vision/v1.0/\"\n",
    "vision_analyze_url = vision_base_url + \"analyze\""
   ]
  },
  {
   "cell_type": "code",
   "execution_count": 3,
   "metadata": {},
   "outputs": [],
   "source": [
    "def analyze_frame(image_path):\n",
    "    image = open(image_path, \"rb\").read()\n",
    "    headers  = {'Ocp-Apim-Subscription-Key': subscription_key,\n",
    "               'Content-Type': 'application/octet-stream'}\n",
    "    params   = {'visualFeatures': 'Tags,Description'}\n",
    "    response = requests.post(vision_analyze_url, headers=headers, params=params, data=image)\n",
    "    response.raise_for_status()\n",
    "    analysis = response.json()\n",
    "    \n",
    "    keyword_list = analysis['description']['tags']\n",
    "    for word in keyword_list:\n",
    "        if word == 'gun' or word == 'weapon':\n",
    "            return True\n",
    "    return False"
   ]
  },
  {
   "cell_type": "code",
   "execution_count": 7,
   "metadata": {},
   "outputs": [
    {
     "data": {
      "text/plain": [
       "True"
      ]
     },
     "execution_count": 7,
     "metadata": {},
     "output_type": "execute_result"
    }
   ],
   "source": [
    "camera = cv2.VideoCapture(0)\n",
    "camera.set(cv2.CAP_PROP_FPS, 1)"
   ]
  },
  {
   "cell_type": "code",
   "execution_count": 8,
   "metadata": {},
   "outputs": [
    {
     "name": "stdout",
     "output_type": "stream",
     "text": [
      "NO GUN DETECTED\n",
      "NO GUN DETECTED\n",
      "NO GUN DETECTED\n",
      "NO GUN DETECTED\n",
      "NO GUN DETECTED\n",
      "NO GUN DETECTED\n",
      "NO GUN DETECTED\n",
      "NO GUN DETECTED\n",
      "NO GUN DETECTED\n",
      "NO GUN DETECTED\n",
      "NO GUN DETECTED\n",
      "NO GUN DETECTED\n",
      "NO GUN DETECTED\n",
      "NO GUN DETECTED\n",
      "NO GUN DETECTED\n",
      "NO GUN DETECTED\n",
      "NO GUN DETECTED\n",
      "NO GUN DETECTED\n",
      "NO GUN DETECTED\n",
      "NO GUN DETECTED\n"
     ]
    },
    {
     "ename": "HTTPError",
     "evalue": "429 Client Error: Too Many Requests for url: https://westcentralus.api.cognitive.microsoft.com/vision/v1.0/analyze?visualFeatures=Tags%2CDescription",
     "output_type": "error",
     "traceback": [
      "\u001b[1;31m---------------------------------------------------------------------------\u001b[0m",
      "\u001b[1;31mHTTPError\u001b[0m                                 Traceback (most recent call last)",
      "\u001b[1;32m<ipython-input-8-175412e2be92>\u001b[0m in \u001b[0;36m<module>\u001b[1;34m()\u001b[0m\n\u001b[0;32m      4\u001b[0m \u001b[1;33m\u001b[0m\u001b[0m\n\u001b[0;32m      5\u001b[0m     \u001b[0mcv2\u001b[0m\u001b[1;33m.\u001b[0m\u001b[0mimwrite\u001b[0m\u001b[1;33m(\u001b[0m\u001b[1;34m'capture.jpg'\u001b[0m\u001b[1;33m,\u001b[0m \u001b[0mframe\u001b[0m\u001b[1;33m)\u001b[0m\u001b[1;33m\u001b[0m\u001b[0m\n\u001b[1;32m----> 6\u001b[1;33m     \u001b[0malarm\u001b[0m \u001b[1;33m=\u001b[0m \u001b[0manalyze_frame\u001b[0m\u001b[1;33m(\u001b[0m\u001b[1;34m'capture.jpg'\u001b[0m\u001b[1;33m)\u001b[0m\u001b[1;33m\u001b[0m\u001b[0m\n\u001b[0m\u001b[0;32m      7\u001b[0m     \u001b[1;32mif\u001b[0m \u001b[0malarm\u001b[0m\u001b[1;33m:\u001b[0m\u001b[1;33m\u001b[0m\u001b[0m\n\u001b[0;32m      8\u001b[0m         \u001b[0mprint\u001b[0m\u001b[1;33m(\u001b[0m\u001b[1;34m\"ALARM\"\u001b[0m\u001b[1;33m)\u001b[0m\u001b[1;33m\u001b[0m\u001b[0m\n",
      "\u001b[1;32m<ipython-input-3-00fb8667c25f>\u001b[0m in \u001b[0;36manalyze_frame\u001b[1;34m(image_path)\u001b[0m\n\u001b[0;32m      5\u001b[0m     \u001b[0mparams\u001b[0m   \u001b[1;33m=\u001b[0m \u001b[1;33m{\u001b[0m\u001b[1;34m'visualFeatures'\u001b[0m\u001b[1;33m:\u001b[0m \u001b[1;34m'Tags,Description'\u001b[0m\u001b[1;33m}\u001b[0m\u001b[1;33m\u001b[0m\u001b[0m\n\u001b[0;32m      6\u001b[0m     \u001b[0mresponse\u001b[0m \u001b[1;33m=\u001b[0m \u001b[0mrequests\u001b[0m\u001b[1;33m.\u001b[0m\u001b[0mpost\u001b[0m\u001b[1;33m(\u001b[0m\u001b[0mvision_analyze_url\u001b[0m\u001b[1;33m,\u001b[0m \u001b[0mheaders\u001b[0m\u001b[1;33m=\u001b[0m\u001b[0mheaders\u001b[0m\u001b[1;33m,\u001b[0m \u001b[0mparams\u001b[0m\u001b[1;33m=\u001b[0m\u001b[0mparams\u001b[0m\u001b[1;33m,\u001b[0m \u001b[0mdata\u001b[0m\u001b[1;33m=\u001b[0m\u001b[0mimage\u001b[0m\u001b[1;33m)\u001b[0m\u001b[1;33m\u001b[0m\u001b[0m\n\u001b[1;32m----> 7\u001b[1;33m     \u001b[0mresponse\u001b[0m\u001b[1;33m.\u001b[0m\u001b[0mraise_for_status\u001b[0m\u001b[1;33m(\u001b[0m\u001b[1;33m)\u001b[0m\u001b[1;33m\u001b[0m\u001b[0m\n\u001b[0m\u001b[0;32m      8\u001b[0m     \u001b[0manalysis\u001b[0m \u001b[1;33m=\u001b[0m \u001b[0mresponse\u001b[0m\u001b[1;33m.\u001b[0m\u001b[0mjson\u001b[0m\u001b[1;33m(\u001b[0m\u001b[1;33m)\u001b[0m\u001b[1;33m\u001b[0m\u001b[0m\n\u001b[0;32m      9\u001b[0m \u001b[1;33m\u001b[0m\u001b[0m\n",
      "\u001b[1;32m~\\Anaconda3\\lib\\site-packages\\requests\\models.py\u001b[0m in \u001b[0;36mraise_for_status\u001b[1;34m(self)\u001b[0m\n\u001b[0;32m    933\u001b[0m \u001b[1;33m\u001b[0m\u001b[0m\n\u001b[0;32m    934\u001b[0m         \u001b[1;32mif\u001b[0m \u001b[0mhttp_error_msg\u001b[0m\u001b[1;33m:\u001b[0m\u001b[1;33m\u001b[0m\u001b[0m\n\u001b[1;32m--> 935\u001b[1;33m             \u001b[1;32mraise\u001b[0m \u001b[0mHTTPError\u001b[0m\u001b[1;33m(\u001b[0m\u001b[0mhttp_error_msg\u001b[0m\u001b[1;33m,\u001b[0m \u001b[0mresponse\u001b[0m\u001b[1;33m=\u001b[0m\u001b[0mself\u001b[0m\u001b[1;33m)\u001b[0m\u001b[1;33m\u001b[0m\u001b[0m\n\u001b[0m\u001b[0;32m    936\u001b[0m \u001b[1;33m\u001b[0m\u001b[0m\n\u001b[0;32m    937\u001b[0m     \u001b[1;32mdef\u001b[0m \u001b[0mclose\u001b[0m\u001b[1;33m(\u001b[0m\u001b[0mself\u001b[0m\u001b[1;33m)\u001b[0m\u001b[1;33m:\u001b[0m\u001b[1;33m\u001b[0m\u001b[0m\n",
      "\u001b[1;31mHTTPError\u001b[0m: 429 Client Error: Too Many Requests for url: https://westcentralus.api.cognitive.microsoft.com/vision/v1.0/analyze?visualFeatures=Tags%2CDescription"
     ]
    }
   ],
   "source": [
    "#analysis every frame\n",
    "while(True):\n",
    "    ret, frame = camera.read()\n",
    "    cv2.imshow('frame', frame)\n",
    "    \n",
    "    cv2.imwrite('capture.jpg', frame)\n",
    "    alarm = analyze_frame('capture.jpg')\n",
    "    if alarm:\n",
    "        print(\"ALARM\")\n",
    "    else:\n",
    "        print(\"NO GUN DETECTED\")\n",
    "    \n",
    "    key = cv2.waitKey(3)\n",
    "    #ESC key press\n",
    "    if key%256 == 27:\n",
    "        break\n",
    "        \n",
    "camera.release()\n",
    "cv2.destroyAllWindows()"
   ]
  },
  {
   "cell_type": "code",
   "execution_count": null,
   "metadata": {},
   "outputs": [],
   "source": [
    "#analysis on key press\n",
    "while(True):\n",
    "    ret, frame = camera.read()\n",
    "    cv2.imshow('frame', frame)\n",
    "    \n",
    "    key = cv2.waitKey(3)\n",
    "    #ESC key press\n",
    "    if key%256 == 27:\n",
    "        break\n",
    "    #SPACE key press\n",
    "    elif key%256 == 32:\n",
    "        cv2.imwrite('capture.jpg', frame)\n",
    "        alarm = analyze_frame('capture.jpg')\n",
    "        if alarm:\n",
    "            print(\"ALARM\")\n",
    "        else:\n",
    "            print(\"NO GUN DETECTED\")\n",
    "        \n",
    "camera.release()\n",
    "cv2.destroyAllWindows()"
   ]
  }
 ],
 "metadata": {
  "kernelspec": {
   "display_name": "Python 3",
   "language": "python",
   "name": "python3"
  },
  "language_info": {
   "codemirror_mode": {
    "name": "ipython",
    "version": 3
   },
   "file_extension": ".py",
   "mimetype": "text/x-python",
   "name": "python",
   "nbconvert_exporter": "python",
   "pygments_lexer": "ipython3",
   "version": "3.6.4"
  }
 },
 "nbformat": 4,
 "nbformat_minor": 2
}
