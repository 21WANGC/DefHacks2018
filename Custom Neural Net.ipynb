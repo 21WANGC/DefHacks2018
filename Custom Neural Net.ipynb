{
 "cells": [
  {
   "cell_type": "code",
   "execution_count": 1,
   "metadata": {},
   "outputs": [],
   "source": [
    "import cv2\n",
    "import http.client\n",
    "import urllib.request\n",
    "import urllib.parse\n",
    "import urllib.error\n",
    "import base64"
   ]
  },
  {
   "cell_type": "code",
   "execution_count": 17,
   "metadata": {},
   "outputs": [
    {
     "name": "stdout",
     "output_type": "stream",
     "text": [
      "b'{\"Id\":\"74251f02-4ccb-458c-a3aa-a8d98ce21211\",\"Project\":\"f9c2c85a-fdcb-4e96-a5a5-e085e58187eb\",\"Iteration\":\"3101dcc4-ca69-4835-a3c5-b40fdd2aef18\",\"Created\":\"2018-03-25T03:51:02.5480406Z\",\"Predictions\":[{\"TagId\":\"e5a099dc-0930-44e8-b708-0c12a291200e\",\"Tag\":\"weapon\",\"Probability\":0.993328333},{\"TagId\":\"5813ff90-b1b6-4990-8381-9c76c8e4d07d\",\"Tag\":\"gun\",\"Probability\":0.9848465}]}'\n"
     ]
    }
   ],
   "source": [
    "#FROM URL\n",
    "headers = {\n",
    "    # Request headers\n",
    "    'Content-Type': 'application/json',\n",
    "    'Prediction-key': 'fe3f42c3c33449e8bba854e961cd72e0',\n",
    "}\n",
    "\n",
    "params = urllib.parse.urlencode({\n",
    "    # Request parameters\n",
    "    'iterationId': '',\n",
    "    'application': '',\n",
    "})\n",
    "\n",
    "data = {'Url': 'https://thumbs.dreamstime.com/z/man-holding-gun-white-background-48212341.jpg'}\n",
    "\n",
    "try:\n",
    "    conn = http.client.HTTPSConnection('southcentralus.api.cognitive.microsoft.com')\n",
    "    conn.request(\"POST\", \"/customvision/v1.1/Prediction/f9c2c85a-fdcb-4e96-a5a5-e085e58187eb/url?%s\" % params, str(data), headers)\n",
    "    response = conn.getresponse()\n",
    "    data = response.read()\n",
    "    print(data)\n",
    "    conn.close()\n",
    "except Exception as e:\n",
    "    print(\"[Errno {0}] {1}\".format(e.errno, e.strerror))"
   ]
  },
  {
   "cell_type": "code",
   "execution_count": 21,
   "metadata": {},
   "outputs": [
    {
     "name": "stdout",
     "output_type": "stream",
     "text": [
      "b'{\"Id\":\"e1206b8f-2cdb-4763-9b6e-8cdafb6f8c40\",\"Project\":\"f9c2c85a-fdcb-4e96-a5a5-e085e58187eb\",\"Iteration\":\"3101dcc4-ca69-4835-a3c5-b40fdd2aef18\",\"Created\":\"2018-03-25T04:05:38.9667264Z\",\"Predictions\":[{\"TagId\":\"e5a099dc-0930-44e8-b708-0c12a291200e\",\"Tag\":\"weapon\",\"Probability\":0.993328333},{\"TagId\":\"5813ff90-b1b6-4990-8381-9c76c8e4d07d\",\"Tag\":\"gun\",\"Probability\":0.9848465}]}'\n"
     ]
    }
   ],
   "source": [
    "#FROM LOCAL\n",
    "headers = {\n",
    "    # Request headers\n",
    "    'Content-Type': 'application/octet-stream',\n",
    "    'Prediction-key': 'fe3f42c3c33449e8bba854e961cd72e0',\n",
    "}\n",
    "\n",
    "params = urllib.parse.urlencode({\n",
    "    # Request parameters\n",
    "    'iterationId': '',\n",
    "    'application': '',\n",
    "})\n",
    "\n",
    "image = open('gun.jpg', \"rb\").read()\n",
    "\n",
    "try:\n",
    "    conn = http.client.HTTPSConnection('southcentralus.api.cognitive.microsoft.com')\n",
    "    conn.request(\"POST\", \"/customvision/v1.1/Prediction/f9c2c85a-fdcb-4e96-a5a5-e085e58187eb/image?%s\" % params, image, headers)\n",
    "    response = conn.getresponse()\n",
    "    data = response.read()\n",
    "    print(data)\n",
    "    conn.close()\n",
    "except Exception as e:\n",
    "    print(\"[Errno {0}] {1}\".format(e.errno, e.strerror))"
   ]
  }
 ],
 "metadata": {
  "kernelspec": {
   "display_name": "Python 3",
   "language": "python",
   "name": "python3"
  },
  "language_info": {
   "codemirror_mode": {
    "name": "ipython",
    "version": 3
   },
   "file_extension": ".py",
   "mimetype": "text/x-python",
   "name": "python",
   "nbconvert_exporter": "python",
   "pygments_lexer": "ipython3",
   "version": "3.6.4"
  }
 },
 "nbformat": 4,
 "nbformat_minor": 2
}
